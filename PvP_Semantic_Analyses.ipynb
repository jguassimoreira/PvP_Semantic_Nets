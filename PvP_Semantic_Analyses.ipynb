{
 "cells": [
  {
   "cell_type": "code",
   "execution_count": 2,
   "metadata": {},
   "outputs": [],
   "source": [
    "import pandas as pd\n",
    "import numpy as np\n",
    "from textblob import TextBlob"
   ]
  },
  {
   "cell_type": "code",
   "execution_count": 4,
   "metadata": {},
   "outputs": [],
   "source": [
    "#### Game Plan\n",
    "\n",
    "#1 correlate length of memories/adjectives with relationship satisfaction and behav pref indices\n",
    "\n",
    "#2 see if we can predict labels (parent/friend) from memories/adjectives\n",
    "\n",
    "#3 run NNMF on data to see what latent topics emerge separately for parents and friends\n",
    "\n",
    "#4 score each individual on topics according to word embeddings and see whether that predicts prefs\n",
    "\n",
    "#5 use similarity between word embeddings to create networks (overall/topic focused) and test diff between par/fri\n",
    "\n",
    "#6 look at differences between semantic networks, relate to prefs"
   ]
  },
  {
   "cell_type": "code",
   "execution_count": null,
   "metadata": {},
   "outputs": [],
   "source": []
  }
 ],
 "metadata": {
  "kernelspec": {
   "display_name": "Python 3",
   "language": "python",
   "name": "python3"
  },
  "language_info": {
   "codemirror_mode": {
    "name": "ipython",
    "version": 3
   },
   "file_extension": ".py",
   "mimetype": "text/x-python",
   "name": "python",
   "nbconvert_exporter": "python",
   "pygments_lexer": "ipython3",
   "version": "3.6.5"
  }
 },
 "nbformat": 4,
 "nbformat_minor": 2
}
